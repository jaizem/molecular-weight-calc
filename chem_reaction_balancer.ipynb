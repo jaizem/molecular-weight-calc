{
 "cells": [
  {
   "cell_type": "markdown",
   "metadata": {},
   "source": [
    "### Chemical Reaction Balancer"
   ]
  },
  {
   "cell_type": "code",
   "execution_count": 11,
   "metadata": {},
   "outputs": [],
   "source": [
    "#take user input\n",
    "reactants = input('Enter reactants: ')\n",
    "products = input('Enter products: ')\n",
    "\n",
    "#clean input for parsing \n",
    "reactants_list = reactants.replace(' ', '').split('+')\n",
    "products_list = products.replace(' ', '').split('+')"
   ]
  },
  {
   "cell_type": "markdown",
   "metadata": {},
   "source": [
    "\n",
    "1. input reactants and products\n",
    "    - reactants will look like C3H8 + O2\n",
    "    - products will look like H2O + CO2\n",
    "    - full equation will look like C3H8 + O2 --> H2O + CO2\n",
    "    - or with smiles ???"
   ]
  },
  {
   "cell_type": "code",
   "execution_count": 14,
   "metadata": {},
   "outputs": [],
   "source": [
    "import re\n",
    "\n",
    "def parse_formula(formula):\n",
    "    #parse elements using regex\n",
    "    pattern = r'([A-Z][a-z]?[a-z]?)(\\d*)'\n",
    "    matches = re.findall(pattern, formula)\n",
    "\n",
    "    #store in dict\n",
    "    elements = {}\n",
    "    for element, quantity in matches:\n",
    "        #set default qty to 1 if no number specified\n",
    "        quantity = int(quantity) if quantity else 1\n",
    "        if element in elements:\n",
    "            elements[element] += quantity\n",
    "        else:\n",
    "            elements[element] = quantity\n",
    "    return elements"
   ]
  },
  {
   "cell_type": "code",
   "execution_count": 13,
   "metadata": {},
   "outputs": [
    {
     "name": "stdout",
     "output_type": "stream",
     "text": [
      "{'C': 3, 'H': 8, 'O': 2}\n",
      "{'H': 2, 'O': 3, 'C': 1}\n"
     ]
    }
   ],
   "source": [
    "#parse reactants and products to store as element dicts\n",
    "reactants_dict = parse_formula(reactants)\n",
    "products_dict = parse_formula(products)\n",
    "\n",
    "print(reactants_dict)\n",
    "print(products_dict)"
   ]
  },
  {
   "cell_type": "code",
   "execution_count": 16,
   "metadata": {},
   "outputs": [],
   "source": [
    "#set up and solve the system of equations representing the chemical reaction \n",
    "    #using matrices to solve a series of linear equations\n",
    "\n",
    "#algebraic balancing, using Bottomley's method\n",
    "''' \n",
    "ex. \n",
    "HClO4 + P4O10 -> H3PO4 + Cl2O7\n",
    "\n",
    "assign variables\n",
    "a = HClO4\n",
    "b = P4O10\n",
    "c = H3PO4\n",
    "d = Cl2O7\n",
    "\n",
    "write equations\n",
    "H: a = 3c\n",
    "Cl: a = 2d\n",
    "O: 4a + 10b = 4c + 7d\n",
    "P: 4b = c\n",
    "\n",
    "create matrix\n",
    "rows = elements\n",
    "columns = qty\n",
    "\n",
    "'''\n"
   ]
  },
  {
   "cell_type": "code",
   "execution_count": 15,
   "metadata": {},
   "outputs": [],
   "source": [
    "#display the balanced chemical equation"
   ]
  }
 ],
 "metadata": {
  "kernelspec": {
   "display_name": "Python 3",
   "language": "python",
   "name": "python3"
  },
  "language_info": {
   "codemirror_mode": {
    "name": "ipython",
    "version": 3
   },
   "file_extension": ".py",
   "mimetype": "text/x-python",
   "name": "python",
   "nbconvert_exporter": "python",
   "pygments_lexer": "ipython3",
   "version": "3.11.9"
  }
 },
 "nbformat": 4,
 "nbformat_minor": 2
}

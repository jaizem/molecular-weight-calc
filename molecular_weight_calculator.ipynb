{
 "cells": [
  {
   "cell_type": "markdown",
   "metadata": {},
   "source": [
    "## Molecular Weight Calculator"
   ]
  },
  {
   "cell_type": "code",
   "execution_count": 18,
   "metadata": {},
   "outputs": [
    {
     "name": "stdout",
     "output_type": "stream",
     "text": [
      "{'C': 169723, 'H': 270464, 'N': 45688, 'O': 52243, 'S': 912}\n"
     ]
    }
   ],
   "source": [
    "import re \n",
    "\n",
    "elements = {}\n",
    "\n",
    "def parse_formula(formula):\n",
    "    #parse elements using regex\n",
    "    pattern = r'([A-Z][a-z]?[a-z]?)(\\d*)'\n",
    "    matches = re.findall(pattern, formula)\n",
    "\n",
    "    for element, quantity in matches:\n",
    "        #set default qty to 1 if no number specified\n",
    "        quantity = int(quantity) if quantity else 1\n",
    "        if element in elements:\n",
    "            elements[element] += quantity\n",
    "        else:\n",
    "            elements[element] = quantity\n",
    "\n",
    "formula = input('Enter chemical formula: ')\n",
    "parse_formula(formula)\n",
    "\n",
    "print(elements)"
   ]
  },
  {
   "cell_type": "markdown",
   "metadata": {},
   "source": [
    "### Parse periodic table into elemental weight dictionary"
   ]
  },
  {
   "cell_type": "code",
   "execution_count": 19,
   "metadata": {},
   "outputs": [
    {
     "name": "stdout",
     "output_type": "stream",
     "text": [
      "{'H': 1.008, 'He': 4.0026, 'Li': 6.94, 'Be': 9.0122, 'B': 10.81, 'C': 12.011, 'N': 14.007, 'O': 15.999, 'F': 18.998, 'Ne': 20.18, 'Na': 22.99, 'Mg': 24.305, 'Al': 26.982, 'Si': 28.085, 'P': 30.974, 'S': 32.06, 'Cl': 35.45, 'Ar': 39.948, 'K': 39.098, 'Ca': 40.078, 'Sc': 44.956, 'Ti': 47.867, 'V': 50.941, 'Cr': 52.0, 'Mn': 54.938, 'Fe': 55.845, 'Co': 58.933, 'Ni': 58.693, 'Cu': 63.546, 'Zn': 65.38, 'Ga': 69.723, 'Ge': 72.63, 'As': 74.922, 'Se': 78.971, 'Br': 79.904, 'Kr': 83.798, 'Rb': 85.468, 'Sr': 87.62, 'Y': 88.906, 'Zr': 91.224, 'Nb': 92.906, 'Mo': 95.95, 'Tc': 98.0, 'Ru': 101.07, 'Rh': 102.91, 'Pd': 106.42, 'Ag': 107.868, 'Cd': 112.414, 'In': 114.818, 'Sn': 118.71, 'Sb': 121.76, 'Te': 127.6, 'I': 126.904, 'Xe': 131.293, 'Cs': 132.905, 'Ba': 137.33, 'La': 138.905, 'Ce': 140.116, 'Pr': 140.907, 'Nd': 144.242, 'Pm': 145.0, 'Sm': 150.36, 'Eu': 151.98, 'Gd': 157.25, 'Tb': 158.925, 'Dy': 162.5, 'Ho': 164.93, 'Er': 167.259, 'Tm': 168.934, 'Yb': 173.04, 'Lu': 175.0, 'Hf': 178.49, 'Ta': 180.947, 'W': 183.84, 'Re': 186.207, 'Os': 190.23, 'Ir': 192.217, 'Pt': 195.084, 'Au': 196.967, 'Hg': 200.592, 'Tl': 204.38, 'Pb': 207.2, 'Bi': 208.98, 'Po': 209.0, 'At': 210.0, 'Rn': 222.0, 'Fr': 223.0, 'Ra': 226.0, 'Ac': 227.0, 'Th': 232.038, 'Pa': 231.035, 'U': 238.028, 'Np': 237.0, 'Pu': 244.0, 'Am': 243.0, 'Cm': 247.0, 'Bk': 247.0, 'Cf': 251.0, 'Es': 252.0, 'Fm': 257.0, 'Md': 258.0, 'No': 259.0, 'Lr': 262.0, 'Rf': 267.0, 'Db': 270.0, 'Sg': 271.0, 'Bh': 270.0, 'Hs': 277.0, 'Mt': 278.0, 'Ds': 281.0, 'Rg': 280.0, 'Cn': 285.0, 'Nh': 284.0, 'Fl': 289.0, 'Mc': 288.0, 'Lv': 293.0, 'Ts': 294.0, 'Og': 294.0}\n",
      "{'C': 169723, 'H': 270464, 'N': 45688, 'O': 52243, 'S': 912}\n"
     ]
    }
   ],
   "source": [
    "periodic_table = {}\n",
    "\n",
    "with open('elements.txt', 'r') as file:\n",
    "    for line in file:\n",
    "        in_arr = line.strip().split('\\t')\n",
    "        periodic_table[in_arr[1]] = float(in_arr[2])\n",
    "\n",
    "print(periodic_table)\n",
    "print(elements)"
   ]
  },
  {
   "cell_type": "markdown",
   "metadata": {},
   "source": [
    "### Calculate formula's atomic weight using periodic table "
   ]
  },
  {
   "cell_type": "code",
   "execution_count": 20,
   "metadata": {},
   "outputs": [
    {
     "name": "stdout",
     "output_type": "stream",
     "text": [
      "3816196.958\n"
     ]
    }
   ],
   "source": [
    "atomic_weight = 0\n",
    "\n",
    "for element in elements:\n",
    "    atomic_weight += elements.get(element) * periodic_table.get(element)\n",
    "\n",
    "print(atomic_weight)"
   ]
  }
 ],
 "metadata": {
  "kernelspec": {
   "display_name": "Python 3",
   "language": "python",
   "name": "python3"
  },
  "language_info": {
   "codemirror_mode": {
    "name": "ipython",
    "version": 3
   },
   "file_extension": ".py",
   "mimetype": "text/x-python",
   "name": "python",
   "nbconvert_exporter": "python",
   "pygments_lexer": "ipython3",
   "version": "3.11.9"
  }
 },
 "nbformat": 4,
 "nbformat_minor": 2
}

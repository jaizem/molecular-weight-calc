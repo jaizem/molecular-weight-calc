{
 "cells": [
  {
   "cell_type": "markdown",
   "metadata": {},
   "source": [
    "## Molecular Weight Calculator"
   ]
  },
  {
   "cell_type": "code",
   "execution_count": null,
   "metadata": {},
   "outputs": [],
   "source": [
    "#input chemical formula, ex. H2O\n",
    "    #i could define this as a function\n",
    "    #but will use the cmd line input for initial testing\n",
    "#parse the elements from string input\n",
    "formula = input()\n",
    "#separate into the elements and their quantities\n",
    "#case handling\n",
    "    #some elements are 1 abbrev, some are 2 \n",
    "        #how many cases are only 1? could approach this naively with an array\n",
    "        #but what would be the optimized solution? how difficult would it be to implement?\n",
    "    #compounding on the above\n",
    "        #if a quantity is 1, there will not be a numeral in the string\n",
    "\n",
    "#cast elements and quantities, \n",
    "    #check types after parsing\n",
    "#use dictionary to store atomic weight of elements\n",
    "#how large would my dictionary be if i created the entire periodic table?\n",
    "#multiply quantity of molecules by their atomic weight\n",
    "#add the elements molecular weights together\n",
    "#return the molecular weight of the entire compound as g per mol\n",
    "\n",
    "\n",
    "#when parsing the formula, create a dictionary for the formula\n",
    "#where key = element, and value = quantity of element"
   ]
  },
  {
   "cell_type": "markdown",
   "metadata": {},
   "source": [
    "#### Questions\n",
    "1. Should there be a limit on the compound size?\n",
    "2. What do compound sizes look like for polymers?"
   ]
  }
 ],
 "metadata": {
  "kernelspec": {
   "display_name": "Python 3",
   "language": "python",
   "name": "python3"
  },
  "language_info": {
   "name": "python",
   "version": "3.11.9"
  }
 },
 "nbformat": 4,
 "nbformat_minor": 2
}
